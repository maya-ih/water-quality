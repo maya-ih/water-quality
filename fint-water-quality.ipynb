{
  "nbformat": 4,
  "nbformat_minor": 0,
  "metadata": {
    "colab": {
      "provenance": []
    },
    "kernelspec": {
      "name": "python3",
      "display_name": "Python 3"
    },
    "language_info": {
      "name": "python"
    }
  },
  "cells": [
    {
      "cell_type": "code",
      "metadata": {
        "id": "fsAf80y1R8Cp"
      },
      "source": [
        "# Import libraries\n",
        "import numpy as np\n",
        "import matplotlib.pylab as plt\n",
        "import pandas as pd\n",
        "\n",
        "from sklearn.model_selection import train_test_split\n",
        "from sklearn import metrics\n",
        "import sklearn\n",
        "from sklearn.metrics import plot_confusion_matrix\n",
        "from sklearn.svm import SVC\n",
        "from sklearn.neighbors import KNeighborsClassifier"
      ],
      "execution_count": null,
      "outputs": []
    },
    {
      "cell_type": "code",
      "metadata": {
        "id": "0dhsNRsASAHe",
        "colab": {
          "base_uri": "https://localhost:8080/",
          "height": 285
        },
        "outputId": "3df1c933-807c-4259-ff08-3258757f4889"
      },
      "source": [
        "# Read in file\n",
        "df = pd.read_csv('https://raw.githubusercontent.com/h-aung/Phys206_repo/master/Flint.csv')\n",
        "df.head()"
      ],
      "execution_count": null,
      "outputs": [
        {
          "output_type": "execute_result",
          "data": {
            "text/plain": [
              "   Land Value  SL_Type2  Year Built  Commercial Building Value  HomeSEV  \\\n",
              "0        4959         0        1954                        0.0        0   \n",
              "1       18319         0        1939                        0.0        0   \n",
              "2        1640         0        1952                        0.0     9000   \n",
              "3       17877         0        1942                        0.0    18000   \n",
              "4       25156         0        1953                        0.0    21200   \n",
              "\n",
              "   Homestead Percent  Land Improvements Value   Latitude  Property Zip Code  \\\n",
              "0              100.0                        0  32.819562            48506.0   \n",
              "1              100.0                        0  41.612146            48503.0   \n",
              "2              100.0                        0  37.072064            48506.0   \n",
              "3              100.0                        0  43.019594            48503.0   \n",
              "4              100.0                        0  43.012109            48503.0   \n",
              "\n",
              "   Longitude  Parcel Acres  Residential Building Value  SL_Type  Lead (ppb)  \n",
              "0 -96.807295         0.142                       14299        1         0.0  \n",
              "1 -83.592350         0.121                       90597        1         0.0  \n",
              "2 -94.510948         0.096                       57545        5         0.0  \n",
              "3 -83.659978         0.115                      130230        1         7.0  \n",
              "4 -83.668858         0.143                      112447        1        13.0  "
            ],
            "text/html": [
              "\n",
              "  <div id=\"df-2ca99d8b-3733-44c9-a6ab-f19a25417d9d\">\n",
              "    <div class=\"colab-df-container\">\n",
              "      <div>\n",
              "<style scoped>\n",
              "    .dataframe tbody tr th:only-of-type {\n",
              "        vertical-align: middle;\n",
              "    }\n",
              "\n",
              "    .dataframe tbody tr th {\n",
              "        vertical-align: top;\n",
              "    }\n",
              "\n",
              "    .dataframe thead th {\n",
              "        text-align: right;\n",
              "    }\n",
              "</style>\n",
              "<table border=\"1\" class=\"dataframe\">\n",
              "  <thead>\n",
              "    <tr style=\"text-align: right;\">\n",
              "      <th></th>\n",
              "      <th>Land Value</th>\n",
              "      <th>SL_Type2</th>\n",
              "      <th>Year Built</th>\n",
              "      <th>Commercial Building Value</th>\n",
              "      <th>HomeSEV</th>\n",
              "      <th>Homestead Percent</th>\n",
              "      <th>Land Improvements Value</th>\n",
              "      <th>Latitude</th>\n",
              "      <th>Property Zip Code</th>\n",
              "      <th>Longitude</th>\n",
              "      <th>Parcel Acres</th>\n",
              "      <th>Residential Building Value</th>\n",
              "      <th>SL_Type</th>\n",
              "      <th>Lead (ppb)</th>\n",
              "    </tr>\n",
              "  </thead>\n",
              "  <tbody>\n",
              "    <tr>\n",
              "      <th>0</th>\n",
              "      <td>4959</td>\n",
              "      <td>0</td>\n",
              "      <td>1954</td>\n",
              "      <td>0.0</td>\n",
              "      <td>0</td>\n",
              "      <td>100.0</td>\n",
              "      <td>0</td>\n",
              "      <td>32.819562</td>\n",
              "      <td>48506.0</td>\n",
              "      <td>-96.807295</td>\n",
              "      <td>0.142</td>\n",
              "      <td>14299</td>\n",
              "      <td>1</td>\n",
              "      <td>0.0</td>\n",
              "    </tr>\n",
              "    <tr>\n",
              "      <th>1</th>\n",
              "      <td>18319</td>\n",
              "      <td>0</td>\n",
              "      <td>1939</td>\n",
              "      <td>0.0</td>\n",
              "      <td>0</td>\n",
              "      <td>100.0</td>\n",
              "      <td>0</td>\n",
              "      <td>41.612146</td>\n",
              "      <td>48503.0</td>\n",
              "      <td>-83.592350</td>\n",
              "      <td>0.121</td>\n",
              "      <td>90597</td>\n",
              "      <td>1</td>\n",
              "      <td>0.0</td>\n",
              "    </tr>\n",
              "    <tr>\n",
              "      <th>2</th>\n",
              "      <td>1640</td>\n",
              "      <td>0</td>\n",
              "      <td>1952</td>\n",
              "      <td>0.0</td>\n",
              "      <td>9000</td>\n",
              "      <td>100.0</td>\n",
              "      <td>0</td>\n",
              "      <td>37.072064</td>\n",
              "      <td>48506.0</td>\n",
              "      <td>-94.510948</td>\n",
              "      <td>0.096</td>\n",
              "      <td>57545</td>\n",
              "      <td>5</td>\n",
              "      <td>0.0</td>\n",
              "    </tr>\n",
              "    <tr>\n",
              "      <th>3</th>\n",
              "      <td>17877</td>\n",
              "      <td>0</td>\n",
              "      <td>1942</td>\n",
              "      <td>0.0</td>\n",
              "      <td>18000</td>\n",
              "      <td>100.0</td>\n",
              "      <td>0</td>\n",
              "      <td>43.019594</td>\n",
              "      <td>48503.0</td>\n",
              "      <td>-83.659978</td>\n",
              "      <td>0.115</td>\n",
              "      <td>130230</td>\n",
              "      <td>1</td>\n",
              "      <td>7.0</td>\n",
              "    </tr>\n",
              "    <tr>\n",
              "      <th>4</th>\n",
              "      <td>25156</td>\n",
              "      <td>0</td>\n",
              "      <td>1953</td>\n",
              "      <td>0.0</td>\n",
              "      <td>21200</td>\n",
              "      <td>100.0</td>\n",
              "      <td>0</td>\n",
              "      <td>43.012109</td>\n",
              "      <td>48503.0</td>\n",
              "      <td>-83.668858</td>\n",
              "      <td>0.143</td>\n",
              "      <td>112447</td>\n",
              "      <td>1</td>\n",
              "      <td>13.0</td>\n",
              "    </tr>\n",
              "  </tbody>\n",
              "</table>\n",
              "</div>\n",
              "      <button class=\"colab-df-convert\" onclick=\"convertToInteractive('df-2ca99d8b-3733-44c9-a6ab-f19a25417d9d')\"\n",
              "              title=\"Convert this dataframe to an interactive table.\"\n",
              "              style=\"display:none;\">\n",
              "        \n",
              "  <svg xmlns=\"http://www.w3.org/2000/svg\" height=\"24px\"viewBox=\"0 0 24 24\"\n",
              "       width=\"24px\">\n",
              "    <path d=\"M0 0h24v24H0V0z\" fill=\"none\"/>\n",
              "    <path d=\"M18.56 5.44l.94 2.06.94-2.06 2.06-.94-2.06-.94-.94-2.06-.94 2.06-2.06.94zm-11 1L8.5 8.5l.94-2.06 2.06-.94-2.06-.94L8.5 2.5l-.94 2.06-2.06.94zm10 10l.94 2.06.94-2.06 2.06-.94-2.06-.94-.94-2.06-.94 2.06-2.06.94z\"/><path d=\"M17.41 7.96l-1.37-1.37c-.4-.4-.92-.59-1.43-.59-.52 0-1.04.2-1.43.59L10.3 9.45l-7.72 7.72c-.78.78-.78 2.05 0 2.83L4 21.41c.39.39.9.59 1.41.59.51 0 1.02-.2 1.41-.59l7.78-7.78 2.81-2.81c.8-.78.8-2.07 0-2.86zM5.41 20L4 18.59l7.72-7.72 1.47 1.35L5.41 20z\"/>\n",
              "  </svg>\n",
              "      </button>\n",
              "      \n",
              "  <style>\n",
              "    .colab-df-container {\n",
              "      display:flex;\n",
              "      flex-wrap:wrap;\n",
              "      gap: 12px;\n",
              "    }\n",
              "\n",
              "    .colab-df-convert {\n",
              "      background-color: #E8F0FE;\n",
              "      border: none;\n",
              "      border-radius: 50%;\n",
              "      cursor: pointer;\n",
              "      display: none;\n",
              "      fill: #1967D2;\n",
              "      height: 32px;\n",
              "      padding: 0 0 0 0;\n",
              "      width: 32px;\n",
              "    }\n",
              "\n",
              "    .colab-df-convert:hover {\n",
              "      background-color: #E2EBFA;\n",
              "      box-shadow: 0px 1px 2px rgba(60, 64, 67, 0.3), 0px 1px 3px 1px rgba(60, 64, 67, 0.15);\n",
              "      fill: #174EA6;\n",
              "    }\n",
              "\n",
              "    [theme=dark] .colab-df-convert {\n",
              "      background-color: #3B4455;\n",
              "      fill: #D2E3FC;\n",
              "    }\n",
              "\n",
              "    [theme=dark] .colab-df-convert:hover {\n",
              "      background-color: #434B5C;\n",
              "      box-shadow: 0px 1px 3px 1px rgba(0, 0, 0, 0.15);\n",
              "      filter: drop-shadow(0px 1px 2px rgba(0, 0, 0, 0.3));\n",
              "      fill: #FFFFFF;\n",
              "    }\n",
              "  </style>\n",
              "\n",
              "      <script>\n",
              "        const buttonEl =\n",
              "          document.querySelector('#df-2ca99d8b-3733-44c9-a6ab-f19a25417d9d button.colab-df-convert');\n",
              "        buttonEl.style.display =\n",
              "          google.colab.kernel.accessAllowed ? 'block' : 'none';\n",
              "\n",
              "        async function convertToInteractive(key) {\n",
              "          const element = document.querySelector('#df-2ca99d8b-3733-44c9-a6ab-f19a25417d9d');\n",
              "          const dataTable =\n",
              "            await google.colab.kernel.invokeFunction('convertToInteractive',\n",
              "                                                     [key], {});\n",
              "          if (!dataTable) return;\n",
              "\n",
              "          const docLinkHtml = 'Like what you see? Visit the ' +\n",
              "            '<a target=\"_blank\" href=https://colab.research.google.com/notebooks/data_table.ipynb>data table notebook</a>'\n",
              "            + ' to learn more about interactive tables.';\n",
              "          element.innerHTML = '';\n",
              "          dataTable['output_type'] = 'display_data';\n",
              "          await google.colab.output.renderOutput(dataTable, element);\n",
              "          const docLink = document.createElement('div');\n",
              "          docLink.innerHTML = docLinkHtml;\n",
              "          element.appendChild(docLink);\n",
              "        }\n",
              "      </script>\n",
              "    </div>\n",
              "  </div>\n",
              "  "
            ]
          },
          "metadata": {},
          "execution_count": 2
        }
      ]
    },
    {
      "cell_type": "code",
      "metadata": {
        "id": "i--_D1N7m3B1"
      },
      "source": [
        "# Create binary variable based of lead level\n",
        "df[\"label\"] = np.where(df[\"Lead (ppb)\"] >= 15, 1, 0)\n",
        "df.drop([\"Lead (ppb)\"], axis=1, inplace=True)"
      ],
      "execution_count": null,
      "outputs": []
    },
    {
      "cell_type": "code",
      "metadata": {
        "id": "2YU3KhJFm_28"
      },
      "source": [
        "# Split data into testing and training set\n",
        "X = df.iloc[:,0:12]\n",
        "y = df[\"label\"]\n",
        "X_train, X_test, y_train, y_test = train_test_split(X, y, random_state = 0)"
      ],
      "execution_count": null,
      "outputs": []
    },
    {
      "cell_type": "code",
      "metadata": {
        "id": "TkY2j0-rnH3k"
      },
      "source": [
        "# Train classifiers\n",
        "clf1 = SVC().fit(X_train, y_train)\n",
        "clf2 = KNeighborsClassifier(n_neighbors = 5).fit(X_train, y_train)"
      ],
      "execution_count": null,
      "outputs": []
    },
    {
      "cell_type": "code",
      "metadata": {
        "id": "iK9PS2tKnXeX",
        "colab": {
          "base_uri": "https://localhost:8080/"
        },
        "outputId": "8159dc08-1733-4b40-d890-09bd8cdf8723"
      },
      "source": [
        "# Evaluate performance of models\n",
        "predicted1 = clf1.predict(X_test)\n",
        "print(\n",
        "    f\"Classification report for classifier {clf1}:\\n\"\n",
        "    f\"{metrics.classification_report(y_test, predicted1)}\\n\"\n",
        ")\n",
        "\n",
        "predicted2 = clf2.predict(X_test)\n",
        "print(\n",
        "    f\"Classification report for classifier {clf2}:\\n\"\n",
        "    f\"{metrics.classification_report(y_test, predicted2)}\\n\"\n",
        ")\n"
      ],
      "execution_count": null,
      "outputs": [
        {
          "output_type": "stream",
          "name": "stdout",
          "text": [
            "Classification report for classifier SVC():\n",
            "              precision    recall  f1-score   support\n",
            "\n",
            "           0       0.88      1.00      0.94      2560\n",
            "           1       0.00      0.00      0.00       343\n",
            "\n",
            "    accuracy                           0.88      2903\n",
            "   macro avg       0.44      0.50      0.47      2903\n",
            "weighted avg       0.78      0.88      0.83      2903\n",
            "\n",
            "\n",
            "Classification report for classifier KNeighborsClassifier():\n",
            "              precision    recall  f1-score   support\n",
            "\n",
            "           0       0.88      0.99      0.93      2560\n",
            "           1       0.17      0.02      0.04       343\n",
            "\n",
            "    accuracy                           0.87      2903\n",
            "   macro avg       0.53      0.50      0.48      2903\n",
            "weighted avg       0.80      0.87      0.83      2903\n",
            "\n",
            "\n"
          ]
        },
        {
          "output_type": "stream",
          "name": "stderr",
          "text": [
            "/usr/local/lib/python3.7/dist-packages/sklearn/metrics/_classification.py:1318: UndefinedMetricWarning: Precision and F-score are ill-defined and being set to 0.0 in labels with no predicted samples. Use `zero_division` parameter to control this behavior.\n",
            "  _warn_prf(average, modifier, msg_start, len(result))\n",
            "/usr/local/lib/python3.7/dist-packages/sklearn/metrics/_classification.py:1318: UndefinedMetricWarning: Precision and F-score are ill-defined and being set to 0.0 in labels with no predicted samples. Use `zero_division` parameter to control this behavior.\n",
            "  _warn_prf(average, modifier, msg_start, len(result))\n",
            "/usr/local/lib/python3.7/dist-packages/sklearn/metrics/_classification.py:1318: UndefinedMetricWarning: Precision and F-score are ill-defined and being set to 0.0 in labels with no predicted samples. Use `zero_division` parameter to control this behavior.\n",
            "  _warn_prf(average, modifier, msg_start, len(result))\n"
          ]
        }
      ]
    },
    {
      "cell_type": "code",
      "metadata": {
        "id": "nh2PqVlgnhFz",
        "colab": {
          "base_uri": "https://localhost:8080/",
          "height": 736
        },
        "outputId": "20bbbe8c-7c3e-4188-e69f-90a803c9ab9c"
      },
      "source": [
        "# Create confusion matrix using test sample\n",
        "disp = plot_confusion_matrix(clf1, X_test, y_test)\n",
        "plt.title(\"SVM Classifier\")\n",
        "print(disp.confusion_matrix)\n",
        "\n",
        "disp = plot_confusion_matrix(clf2, X_test, y_test)\n",
        "plt.title(\"kNN Classifier\")\n",
        "print(disp.confusion_matrix)"
      ],
      "execution_count": null,
      "outputs": [
        {
          "output_type": "stream",
          "name": "stderr",
          "text": [
            "/usr/local/lib/python3.7/dist-packages/sklearn/utils/deprecation.py:87: FutureWarning: Function plot_confusion_matrix is deprecated; Function `plot_confusion_matrix` is deprecated in 1.0 and will be removed in 1.2. Use one of the class methods: ConfusionMatrixDisplay.from_predictions or ConfusionMatrixDisplay.from_estimator.\n",
            "  warnings.warn(msg, category=FutureWarning)\n"
          ]
        },
        {
          "output_type": "stream",
          "name": "stdout",
          "text": [
            "[[2560    0]\n",
            " [ 343    0]]\n",
            "[[2526   34]\n",
            " [ 336    7]]\n"
          ]
        },
        {
          "output_type": "stream",
          "name": "stderr",
          "text": [
            "/usr/local/lib/python3.7/dist-packages/sklearn/utils/deprecation.py:87: FutureWarning: Function plot_confusion_matrix is deprecated; Function `plot_confusion_matrix` is deprecated in 1.0 and will be removed in 1.2. Use one of the class methods: ConfusionMatrixDisplay.from_predictions or ConfusionMatrixDisplay.from_estimator.\n",
            "  warnings.warn(msg, category=FutureWarning)\n"
          ]
        },
        {
          "output_type": "display_data",
          "data": {
            "text/plain": [
              "<Figure size 432x288 with 2 Axes>"
            ],
            "image/png": "[encoded data removed]"
          },
          "metadata": {
            "needs_background": "light"
          }
        },
        {
          "output_type": "display_data",
          "data": {
            "text/plain": [
              "<Figure size 432x288 with 2 Axes>"
            ],
            "image/png": "[encoded data removed]"
          },
          "metadata": {
            "needs_background": "light"
          }
        }
      ]
    },
    {
      "cell_type": "code",
      "metadata": {
        "id": "1dpdXjEj9w9J"
      },
      "source": [
        "# Train RandomForestClassifier\n",
        "from sklearn.ensemble import RandomForestClassifier\n",
        "clf = RandomForestClassifier(n_estimators=500, random_state=23)\n",
        "clf.fit(X, y)"
      ],
      "execution_count": null,
      "outputs": []
    },
    {
      "cell_type": "code",
      "metadata": {
        "colab": {
          "base_uri": "https://localhost:8080/",
          "height": 492
        },
        "id": "X5TY_AyOnt5X",
        "outputId": "4a2b3440-3df7-4155-c57f-d3c66e0120f5"
      },
      "source": [
        "# Evaluate importance of features using SHAP summary plot\n",
        "explainer = shap.Explainer(clf)\n",
        "shap_values = explainer.shap_values(X[::200])\n",
        "shap.summary_plot(shap_values, X[::200])"
      ],
      "execution_count": null,
      "outputs": [
        {
          "output_type": "display_data",
          "data": {
            "text/plain": [
              "<Figure size 576x482.4 with 1 Axes>"
            ],
            "image/png": "[encoded data removed]"
          },
          "metadata": {
            "needs_background": "light"
          }
        }
      ]
    },
    {
      "cell_type": "code",
      "metadata": {
        "colab": {
          "base_uri": "https://localhost:8080/",
          "height": 327
        },
        "id": "n7Fm9GBFpqpa",
        "outputId": "48a4bf25-1322-44ff-aa28-24b135938081"
      },
      "source": [
        "# Evaluate importance of features for one observation using SHAP force plot\n",
        "object_i = 33\n",
        "class_object_i = int(y[::200].iloc[object_i])\n",
        "print('True Class (if 1, Lead PPB > 15, othewise Lead PPB < 15 ):', class_object_i)\n",
        "print('Probability that this data point belong to class 0 = %0.2f'%(explainer.expected_value[0] + sum(shap_values[0][object_i,:])))\n",
        "print('Base Probability for class 0 = %0.2f'%(explainer.expected_value[0]))\n",
        "\n",
        "shap.force_plot(explainer.expected_value[0],\n",
        "                shap_values[0][object_i,:],\n",
        "                X.iloc[object_i,:],\n",
        "                matplotlib=True)"
      ],
      "execution_count": null,
      "outputs": [
        {
          "output_type": "stream",
          "name": "stdout",
          "text": [
            "True Class (if 1, Lead PPB > 15, othewise Lead PPB < 15 ): 1\n",
            "Probability that this data point belong to class 0 = 0.31\n",
            "Base Probability for class 0 = 0.89\n"
          ]
        },
        {
          "output_type": "display_data",
          "data": {
            "text/plain": [
              "<Figure size 1440x216 with 1 Axes>"
            ],
            "image/png": "[encoded data removed]"
          },
          "metadata": {
            "needs_background": "light"
          }
        }
      ]
    }
  ]
}